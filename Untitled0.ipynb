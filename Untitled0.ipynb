{
  "nbformat": 4,
  "nbformat_minor": 0,
  "metadata": {
    "colab": {
      "provenance": [],
      "authorship_tag": "ABX9TyNZEF0K3Dy5OrlTwBSh06jG",
      "include_colab_link": true
    },
    "kernelspec": {
      "name": "python3",
      "display_name": "Python 3"
    },
    "language_info": {
      "name": "python"
    }
  },
  "cells": [
    {
      "cell_type": "markdown",
      "metadata": {
        "id": "view-in-github",
        "colab_type": "text"
      },
      "source": [
        "<a href=\"https://colab.research.google.com/github/pravinkumarit/skills-copilot-codespaces-vscode/blob/main/Untitled0.ipynb\" target=\"_parent\"><img src=\"https://colab.research.google.com/assets/colab-badge.svg\" alt=\"Open In Colab\"/></a>"
      ]
    },
    {
      "cell_type": "code",
      "execution_count": 2,
      "metadata": {
        "colab": {
          "base_uri": "https://localhost:8080/"
        },
        "id": "6YdP2OPyyV3h",
        "outputId": "931c4ce6-6447-4658-e62a-78687c67efdb"
      },
      "outputs": [
        {
          "output_type": "stream",
          "name": "stdout",
          "text": [
            "  name     mark\n",
            "0    a       10\n",
            "1    b       20\n",
            "2    c       30\n",
            "3    d       40\n",
            "4    e       50\n",
            "5    f       60\n",
            "6    g       70\n",
            "7    h       80\n",
            "8    i       90\n"
          ]
        }
      ],
      "source": [
        "import pandas as p\n",
        "filepath='/content/sample_data/mark.csv'\n",
        "df=p.read_csv(filepath)\n",
        "print(df)"
      ]
    },
    {
      "cell_type": "code",
      "source": [
        "df_dropped=df.dropna()\n",
        "print('\\n .....Data frame after.....' )\n",
        "print(df)"
      ],
      "metadata": {
        "colab": {
          "base_uri": "https://localhost:8080/"
        },
        "id": "htaJJAOD8ira",
        "outputId": "c83a5fec-c0c7-4a6b-eaca-89ffcf73906b"
      },
      "execution_count": 22,
      "outputs": [
        {
          "output_type": "stream",
          "name": "stdout",
          "text": [
            "\n",
            " .....Data frame after.....\n",
            "  name     mark  subject\n",
            "0    a       10       60\n",
            "1    b       20       80\n",
            "2    c       30       50\n",
            "3    d       40       62\n",
            "4    e       50       60\n",
            "5    f       60       62\n",
            "6    g       70       78\n",
            "7    h       80       62\n",
            "8    i       90       45\n"
          ]
        }
      ]
    },
    {
      "cell_type": "code",
      "source": [
        "mean_fill=df['Total'].mean()\n",
        "df=df.fillna(mean_fill)\n",
        "print(\"\\n Data frame after filling missed values\")\n",
        "print(df)"
      ],
      "metadata": {
        "colab": {
          "base_uri": "https://localhost:8080/"
        },
        "id": "xe3O5OaY9GXJ",
        "outputId": "c091f542-9e30-494d-e115-1f9155b865d5"
      },
      "execution_count": 18,
      "outputs": [
        {
          "output_type": "stream",
          "name": "stdout",
          "text": [
            "\n",
            " Data frame after filling missed values\n",
            "  name     mark      Total\n",
            "0    a       10  60.000000\n",
            "1    b       20  80.000000\n",
            "2    c       30  50.000000\n",
            "3    d       40  62.166667\n",
            "4    e       50  60.000000\n",
            "5    f       60  62.166667\n",
            "6    g       70  78.000000\n",
            "7    h       80  62.166667\n",
            "8    i       90  45.000000\n"
          ]
        }
      ]
    },
    {
      "cell_type": "code",
      "source": [
        "df.rename(columns={'Total':'subject'},inplace=True)\n",
        "print(\"\\n Data frame after renaming\")\n",
        "print(df)"
      ],
      "metadata": {
        "colab": {
          "base_uri": "https://localhost:8080/"
        },
        "id": "8EYUMJ2F-aTh",
        "outputId": "dda960cd-d67e-4b07-e342-d009851ceb4e"
      },
      "execution_count": 20,
      "outputs": [
        {
          "output_type": "stream",
          "name": "stdout",
          "text": [
            "\n",
            " Data frame after renaming\n",
            "  name     mark    subject\n",
            "0    a       10  60.000000\n",
            "1    b       20  80.000000\n",
            "2    c       30  50.000000\n",
            "3    d       40  62.166667\n",
            "4    e       50  60.000000\n",
            "5    f       60  62.166667\n",
            "6    g       70  78.000000\n",
            "7    h       80  62.166667\n",
            "8    i       90  45.000000\n"
          ]
        }
      ]
    },
    {
      "cell_type": "code",
      "source": [
        "df['subject']=df['subject'].astype(int)\n",
        "print(\"\\n Data frame after changing data type\")\n",
        "print(df)\n",
        "print(df.dtypes)"
      ],
      "metadata": {
        "colab": {
          "base_uri": "https://localhost:8080/"
        },
        "id": "PRV1j50J_GpB",
        "outputId": "b0135a8e-4093-4e8c-f1f4-460353c6981d"
      },
      "execution_count": 21,
      "outputs": [
        {
          "output_type": "stream",
          "name": "stdout",
          "text": [
            "\n",
            " Data frame after changing data type\n",
            "  name     mark  subject\n",
            "0    a       10       60\n",
            "1    b       20       80\n",
            "2    c       30       50\n",
            "3    d       40       62\n",
            "4    e       50       60\n",
            "5    f       60       62\n",
            "6    g       70       78\n",
            "7    h       80       62\n",
            "8    i       90       45\n",
            "name       object\n",
            "   mark     int64\n",
            "subject     int64\n",
            "dtype: object\n"
          ]
        }
      ]
    },
    {
      "cell_type": "code",
      "source": [],
      "metadata": {
        "id": "noRbMuEL_xNZ"
      },
      "execution_count": null,
      "outputs": []
    }
  ]
}